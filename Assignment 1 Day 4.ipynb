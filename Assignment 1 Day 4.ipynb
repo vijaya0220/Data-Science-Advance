{
 "cells": [
  {
   "cell_type": "markdown",
   "metadata": {},
   "source": [
    "1. E igenvalues and Eigenvectors of an array\n",
    "\n",
    "Explanation:\n",
    "            NumPy has the numpy. linalg. eig() function to deduce the eigenvalues and normalized eigenvectors of a given square matrix. And since the returned eigenvectors are normalized, if you take the norm of the returned column vector, its norm will be 1.\n",
    "\n",
    "\n",
    "Syntax:\n",
    "        numpy.linalg.eig()\n",
    "        np.linalg.eig(a)"
   ]
  },
  {
   "cell_type": "code",
   "execution_count": 1,
   "metadata": {},
   "outputs": [
    {
     "name": "stdout",
     "output_type": "stream",
     "text": [
      "[4. 1.]\n",
      "[[ 0.70710678 -0.4472136 ]\n",
      " [ 0.70710678  0.89442719]]\n"
     ]
    }
   ],
   "source": [
    "#Code\n",
    "import numpy as np\n",
    "\n",
    "a = np.array([[3, 1], [2, 2]])\n",
    "w, v = np.linalg.eig(a)\n",
    "\n",
    "print(w)\n",
    "print(v)\n"
   ]
  },
  {
   "cell_type": "code",
   "execution_count": 2,
   "metadata": {},
   "outputs": [
    {
     "name": "stdout",
     "output_type": "stream",
     "text": [
      "True\n"
     ]
    }
   ],
   "source": [
    "print(np.allclose(np.dot(a,v[:,0]),np.dot(w[0],v[:,0])))"
   ]
  },
  {
   "cell_type": "code",
   "execution_count": 3,
   "metadata": {},
   "outputs": [
    {
     "name": "stdout",
     "output_type": "stream",
     "text": [
      "0.9999999999999999\n",
      "0.9999999999999999\n"
     ]
    }
   ],
   "source": [
    "print(np.linalg.norm(v[:,0]))\n",
    "print(np.linalg.norm(v[:,1]))"
   ]
  },
  {
   "cell_type": "markdown",
   "metadata": {},
   "source": [
    "2. digitize\n",
    "Explanation:\n",
    "            With the help of np.digitize() method, we can get the indices of the bins to which the each value is belongs to an array by using np.digitize() method.\n",
    "            \n",
    "Syntax:\n",
    "        np.digitize(Array, Bin, Right)\n",
    "        Return : Return an array of indices of the bins."
   ]
  },
  {
   "cell_type": "code",
   "execution_count": 4,
   "metadata": {},
   "outputs": [
    {
     "name": "stdout",
     "output_type": "stream",
     "text": [
      "[1 2 3 4]\n"
     ]
    }
   ],
   "source": [
    "#Code\n",
    "import numpy as np \n",
    "  \n",
    "a = np.array([1.2, 2.4, 3.6, 4.8]) \n",
    "bins = np.array([1.0, 1.3, 2.5, 4.0, 10.0]) \n",
    "  \n",
    "# using np.digitize() method \n",
    "gfg = np.digitize(a, bins) \n",
    "  \n",
    "print(gfg) "
   ]
  },
  {
   "cell_type": "markdown",
   "metadata": {},
   "source": [
    "3. repeat()\n",
    "Explanation:\n",
    "            The numpy.repeat() function repeats elements of the array – arr.\n",
    "Syntax:\n",
    "       numpy.repeat(arr, repetitions, axis = None)\n",
    "       \n",
    "Parameters :\n",
    "\n",
    "array       : [array_like]Input array. \n",
    "repetitions : No. of repetitions of each array elements along the given axis.\n",
    "axis        : Axis along which we want to repeat values. By default, it returns \n",
    "           a flat output array.\n",
    "\n",
    "Return :\n",
    "\n",
    "An array with repetitions of array - arr elements as per repetitions, number of times \n",
    "we want to repeat arr  "
   ]
  },
  {
   "cell_type": "code",
   "execution_count": 5,
   "metadata": {},
   "outputs": [
    {
     "name": "stdout",
     "output_type": "stream",
     "text": [
      "arr : \n",
      " [0 1 2 3 4]\n",
      "\n",
      "Repeating arr 2 times : \n",
      " [0 0 1 1 2 2 3 3 4 4]\n",
      "Shape :  (10,)\n",
      "\n",
      "Repeating arr 3 times : \n",
      " [0 0 0 1 1 1 2 2 2 3 3 3 4 4 4]\n",
      "Shape :  (15,)\n"
     ]
    }
   ],
   "source": [
    "#Code\n",
    "import numpy as np \n",
    "  \n",
    "#Working on 1D \n",
    "arr = np.arange(5) \n",
    "print(\"arr : \\n\", arr) \n",
    "  \n",
    "repetitions = 2\n",
    "a = np.repeat(arr, repetitions) \n",
    "print(\"\\nRepeating arr 2 times : \\n\", a) \n",
    "print(\"Shape : \", a.shape) \n",
    "  \n",
    "repetitions = 3\n",
    "a = np.repeat(arr, repetitions) \n",
    "print(\"\\nRepeating arr 3 times : \\n\", a) \n",
    "# [0 0 0 ..., 4 4 4] means [0 0 0 1 1 1 2 2 2 3 3 3 4 4 4] \n",
    "# since it was long output, so it uses [ ... ] \n",
    "print(\"Shape : \", a.shape) "
   ]
  },
  {
   "cell_type": "markdown",
   "metadata": {},
   "source": [
    "4. squeeze()\n",
    "\n",
    "Explanation:\n",
    "               numpy.squeeze() function is used when we want to remove single-dimensional entries from the shape of an array.\n",
    "Syntax:\n",
    "        numpy.squeeze(arr, axis=None )\n",
    "\n",
    "Parameters :\n",
    "arr : [array_like] Input array.\n",
    "axis : [None or int or tuple of ints, optional] Selects a subset of the single-dimensional entries in the shape. If an axis is selected with shape entry greater than one, an error is raised.\n",
    "\n",
    "Return :\n",
    "squeezed [ndarray] The input array, but with all or a subset of the dimensions of length 1 removed. This is always a itself or a view into arr."
   ]
  },
  {
   "cell_type": "code",
   "execution_count": 6,
   "metadata": {},
   "outputs": [
    {
     "name": "stdout",
     "output_type": "stream",
     "text": [
      "Input array :  [[[0 1 2]\n",
      "  [3 4 5]\n",
      "  [6 7 8]]]\n",
      "output array :  [[0 1 2]\n",
      " [3 4 5]\n",
      " [6 7 8]]\n",
      "The shapes of Input and Output array : \n",
      "(1, 3, 3) (3, 3)\n"
     ]
    }
   ],
   "source": [
    "#Code\n",
    "import numpy as np \n",
    "in_arr = np.arange(9).reshape(1, 3, 3)  \n",
    "  \n",
    "print (\"Input array : \", in_arr)   \n",
    "out_arr = np.squeeze(in_arr, axis = 0)  \n",
    "  \n",
    "print (\"output array : \", out_arr)   \n",
    "print(\"The shapes of Input and Output array : \")  \n",
    "  \n",
    "print(in_arr.shape, out_arr.shape) "
   ]
  },
  {
   "cell_type": "markdown",
   "metadata": {},
   "source": [
    "5. linspace()\n",
    "\n",
    "Explanation:\n",
    "            The numpy.linspace() function returns number spaces evenly w.r.t interval. Similar to numpy.arange() function but instead of step it uses sample number.\n",
    "            \n",
    "Syntax:\n",
    "        numpy.linspace(start,\n",
    "               stop,\n",
    "               num = 50,\n",
    "               endpoint = True,\n",
    "               retstep = False,\n",
    "               dtype = None)\n",
    "               \n",
    "Parameters :\n",
    "\n",
    "-> start  : [optional] start of interval range. By default start = 0\n",
    "-> stop   : end of interval range\n",
    "-> restep : If True, return (samples, step). By deflut restep = False\n",
    "-> num    : [int, optional] No. of samples to generate\n",
    "-> dtype  : type of output array\n",
    "\n",
    "\n",
    "\n",
    "Return :\n",
    "\n",
    "-> ndarray\n",
    "-> step : [float, optional], if restep = True"
   ]
  },
  {
   "cell_type": "code",
   "execution_count": 7,
   "metadata": {},
   "outputs": [
    {
     "name": "stdout",
     "output_type": "stream",
     "text": [
      "B\n",
      " (array([2.  , 2.25, 2.5 , 2.75, 3.  ]), 0.25) \n",
      "\n",
      "A\n",
      " [0.         0.22039774 0.42995636 0.6183698  0.77637192 0.8961922\n",
      " 0.9719379  0.99988386 0.9786557  0.90929743]\n"
     ]
    }
   ],
   "source": [
    "#Code\n",
    "import numpy as np \n",
    "  \n",
    "# restep set to True \n",
    "print(\"B\\n\", np.linspace(2.0, 3.0, num=5, retstep=True), \"\\n\") \n",
    "  \n",
    "# To evaluate sin() in long range  \n",
    "x = np.linspace(0, 2, 10) \n",
    "print(\"A\\n\", np.sin(x)) "
   ]
  },
  {
   "cell_type": "markdown",
   "metadata": {},
   "source": [
    "6. clip()\n",
    "\n",
    "Explanation:\n",
    "            numpy.clip() function is used to Clip (limit) the values in an array.\n",
    "\n",
    "Given an interval, values outside the interval are clipped to the interval edges. For example, if an interval of [0, 1] is specified, values smaller than 0 become 0, and values larger than 1 become 1.\n",
    "\n",
    "\n",
    "Syntax:\n",
    "numpy.clip(a, a_min, a_max, out=None)\n",
    "\n",
    "Parameters :\n",
    "a : Array containing elements to clip.\n",
    "a_min : Minimum value.\n",
    "    –> If None, clipping is not performed on lower interval edge. Not more than one of a_min and a_max may be None.\n",
    "a_max : Maximum value.\n",
    "    –> If None, clipping is not performed on upper interval edge. Not more than one of a_min and a_max may be None.\n",
    "    –> If a_min or a_max are array_like, then the three arrays will be broadcasted to match their shapes.\n",
    "out : Results will be placed in this array. It may be the input array for in-place clipping. out must be of the right shape to hold the output. Its type is preserved.\n",
    "\n",
    "Return : clipped_array"
   ]
  },
  {
   "cell_type": "code",
   "execution_count": 8,
   "metadata": {},
   "outputs": [
    {
     "name": "stdout",
     "output_type": "stream",
     "text": [
      "Input array :  [1, 2, 3, 4, 5, 6, 7, 8]\n",
      "Output array :  [2 2 3 4 5 6 6 6]\n"
     ]
    }
   ],
   "source": [
    "#Code\n",
    "import numpy as np \n",
    "  \n",
    "in_array = [1, 2, 3, 4, 5, 6, 7, 8 ] \n",
    "print (\"Input array : \", in_array) \n",
    "  \n",
    "out_array = np.clip(in_array, a_min = 2, a_max = 6) \n",
    "print (\"Output array : \", out_array)"
   ]
  },
  {
   "cell_type": "markdown",
   "metadata": {},
   "source": [
    "7. extract()\n",
    "\n",
    "Explanation:\n",
    "            The numpy.extract() function returns elements of input_array if they satisfy some specified condition.\n",
    "Syntax:\n",
    "        numpy.extract(condition, array)\n",
    "        \n",
    "Parameters :\n",
    "\n",
    "array     : Input array. User apply conditions on input_array elements\n",
    "condition : [array_like]Condition on the basis of which user extract elements. \n",
    "      Applying condition on input_array, if we print condition, it will return an array\n",
    "      filled with either True or False. Array elements are extracted from the Indices having \n",
    "      True value.\n",
    "Returns :\n",
    "\n",
    "Array elements that satisfy the condition."
   ]
  },
  {
   "cell_type": "code",
   "execution_count": 9,
   "metadata": {},
   "outputs": [
    {
     "name": "stdout",
     "output_type": "stream",
     "text": [
      "Original array : \n",
      " [[0 1]\n",
      " [2 3]\n",
      " [4 5]\n",
      " [6 7]\n",
      " [8 9]]\n",
      "\n",
      "Array Condition a : \n",
      " [[False  True]\n",
      " [ True  True]\n",
      " [False  True]\n",
      " [ True  True]\n",
      " [False  True]]\n",
      "\n",
      "Elements that satisfy condition a  : \n",
      " [1 2 3 5 6 7 9]\n",
      "\n",
      "Array Condition b : \n",
      " [[False False]\n",
      " [False False]\n",
      " [False  True]\n",
      " [False False]\n",
      " [False False]]\n",
      "\n",
      "Elements that satisfy condition b  : \n",
      " [5]\n"
     ]
    }
   ],
   "source": [
    "import numpy as np \n",
    "  \n",
    "array = np.arange(10).reshape(5, 2) \n",
    "print(\"Original array : \\n\", array) \n",
    "  \n",
    "a = np.mod(array, 4) !=0\n",
    "# This will show element status of satisfying condition \n",
    "print(\"\\nArray Condition a : \\n\", a) \n",
    "  \n",
    "# This will return elements that satisy condition \"a\" condition \n",
    "print(\"\\nElements that satisfy condition a  : \\n\", np.extract(a, array)) \n",
    "  \n",
    "  \n",
    "  \n",
    "b = array - 4 == 1\n",
    "# This will show element status of satisfying condition \n",
    "print(\"\\nArray Condition b : \\n\", b) \n",
    "  \n",
    "# This will return elements that satisy condition \"b\" condition \n",
    "print(\"\\nElements that satisfy condition b  : \\n\", np.extract(b, array)) "
   ]
  },
  {
   "cell_type": "markdown",
   "metadata": {},
   "source": [
    "8. argpartition()\n",
    "\n",
    "Explanation:\n",
    "            numpy.argpartition() function is used to create a indirect partitioned copy of input array with its elements rearranged in such a way that the value of the element in k-th position is in the position it would be in a sorted array. All elements smaller than the k-th element are moved before this element and all equal or greater are moved behind it. The ordering of the elements in the two partitions is undefined.It returns an array of indices of the same shape as arr, i.e arr[index_array] yields a partition of arr.\n",
    "            \n",
    "Syntax:\n",
    "numpy.argpartition(arr, kth, axis=-1, kind=’introselect’, order=None)\n",
    "\n",
    "Parameters :\n",
    "arr : [array_like] Input array.\n",
    "kth : [int or sequence of ints ] Element index to partition by.\n",
    "axis : [int or None] Axis along which to sort. If None, the array is flattened before sorting. The default is -1, which sorts along the last axis.\n",
    "kind : Selection algorithm. Default is ‘introselect’.\n",
    "order : [str or list of str] When arr is an array with fields defined, this argument specifies which fields to compare first, second, etc.\n",
    "\n",
    "Return : [index_array, ndarray] Array of indices that partition arr along the specified axis."
   ]
  },
  {
   "cell_type": "code",
   "execution_count": 10,
   "metadata": {},
   "outputs": [
    {
     "name": "stdout",
     "output_type": "stream",
     "text": [
      "Input array : \n",
      " [[2 0 1]\n",
      " [5 4 9]]\n",
      "Output partitioned array indices :\n",
      "  [[1 2 0]\n",
      " [1 0 2]]\n"
     ]
    }
   ],
   "source": [
    "#Code\n",
    "import numpy as geek \n",
    "  \n",
    "# input array \n",
    "in_arr = geek.array([[ 2, 0,  1], [ 5, 4, 9] ]) \n",
    "print (\"Input array : \\n\", in_arr)  \n",
    "  \n",
    "out_arr = geek.argpartition(in_arr, 1, axis = 1) \n",
    "print (\"Output partitioned array indices :\\n \", out_arr) "
   ]
  },
  {
   "cell_type": "markdown",
   "metadata": {},
   "source": [
    "\n",
    "9. setdiff1d()\n",
    "\n",
    "Explanation:\n",
    "            numpy.setdiff1d() function find the set difference of two arrays and return the unique values in arr1 that are not in arr2.\n",
    "Syntax:\n",
    " numpy.setdiff1d(arr1, arr2, assume_unique = False)\n",
    "\n",
    "Parameters :\n",
    "arr1 : [array_like] Input array.\n",
    "arr2 : [array_like] Input comparison array.\n",
    "assume_unique : [bool] If True, the input arrays are both assumed to be unique, which can speed up the calculation. Default is False.\n",
    "\n",
    "Return : [ndarray] 1D array of values in arr1 that are not in arr2. The result is sorted when assume_unique = False, but otherwise only sorted if the input is sorted."
   ]
  },
  {
   "cell_type": "code",
   "execution_count": 11,
   "metadata": {},
   "outputs": [
    {
     "name": "stdout",
     "output_type": "stream",
     "text": [
      "[4 5 6]\n"
     ]
    }
   ],
   "source": [
    "import numpy as np  \n",
    "   \n",
    "arr1 = [5, 6, 2, 3, 4] \n",
    "arr2 = [1, 2, 3] \n",
    "   \n",
    "gfg = np.setdiff1d(arr1, arr2) \n",
    "   \n",
    "print (gfg)"
   ]
  },
  {
   "cell_type": "markdown",
   "metadata": {},
   "source": [
    "10. itemsize\n",
    "\n",
    "Explanation:\n",
    "            numpy.ndarray.itemsize() function return the length of one array element in bytes.\n",
    "Syntax:numpy.ndarray.itemsize(arr)\n",
    "\n",
    "Parameters :\n",
    "arr : [array_like] Input array.\n",
    "\n",
    "Return : [int] The length of one array element in bytes"
   ]
  },
  {
   "cell_type": "code",
   "execution_count": 12,
   "metadata": {},
   "outputs": [
    {
     "name": "stdout",
     "output_type": "stream",
     "text": [
      "8\n"
     ]
    }
   ],
   "source": [
    "import numpy as py \n",
    "  \n",
    "arr = py.array([1, 2, 3, 4], dtype = geek.float64) \n",
    "  \n",
    "gfg = arr.itemsize \n",
    "  \n",
    "print (gfg) "
   ]
  },
  {
   "cell_type": "markdown",
   "metadata": {},
   "source": [
    "11. hstack()\n",
    "\n",
    "Explanation:\n",
    "            numpy.hstack() function is used to stack the sequence of input arrays horizontally (i.e. column wise) to make a single array.\n",
    "\n",
    "Syntax:\n",
    "numpy.hstack(tup)\n",
    "\n",
    "Parameters :\n",
    "tup : [sequence of ndarrays] Tuple containing arrays to be stacked. The arrays must have the same shape along all but the second axis.\n",
    "\n",
    "Return : [stacked ndarray] The stacked array of the input arrays."
   ]
  },
  {
   "cell_type": "code",
   "execution_count": 13,
   "metadata": {},
   "outputs": [
    {
     "name": "stdout",
     "output_type": "stream",
     "text": [
      "1st Input array : \n",
      " [1 2 3]\n",
      "2nd Input array : \n",
      " [4 5 6]\n",
      "Output horizontally stacked array:\n",
      "  [1 2 3 4 5 6]\n"
     ]
    }
   ],
   "source": [
    "#Code\n",
    "import numpy as np \n",
    "  \n",
    "# input array \n",
    "in_arr1 = np.array([ 1, 2, 3] ) \n",
    "print (\"1st Input array : \\n\", in_arr1)  \n",
    "  \n",
    "in_arr2 = np.array([ 4, 5, 6] ) \n",
    "print (\"2nd Input array : \\n\", in_arr2)  \n",
    "  \n",
    "# Stacking the two arrays horizontally \n",
    "out_arr = np.hstack((in_arr1, in_arr2)) \n",
    "print (\"Output horizontally stacked array:\\n \", out_arr) "
   ]
  },
  {
   "cell_type": "markdown",
   "metadata": {},
   "source": [
    "12. vstack()\n",
    "\n",
    "Explanation:\n",
    "            numpy.vstack() function is used to stack the sequence of input arrays vertically to make a single array.\n",
    "Syntax:\n",
    "numpy.vstack(tup)\n",
    "\n",
    "Parameters :\n",
    "tup : [sequence of ndarrays] Tuple containing arrays to be stacked. The arrays must have the same shape along all but the first axis.\n",
    "\n",
    "Return : [stacked ndarray] The stacked array of the input arrays."
   ]
  },
  {
   "cell_type": "code",
   "execution_count": 14,
   "metadata": {},
   "outputs": [
    {
     "name": "stdout",
     "output_type": "stream",
     "text": [
      "1st Input array : \n",
      " [1 2 3]\n",
      "2nd Input array : \n",
      " [4 5 6]\n",
      "Output vertically stacked array:\n",
      "  [[1 2 3]\n",
      " [4 5 6]]\n"
     ]
    }
   ],
   "source": [
    "#Code\n",
    "  \n",
    "import numpy as np \n",
    "  \n",
    "# input array \n",
    "in_arr1 = np.array([ 1, 2, 3] ) \n",
    "print (\"1st Input array : \\n\", in_arr1)  \n",
    "  \n",
    "in_arr2 = np.array([ 4, 5, 6] ) \n",
    "print (\"2nd Input array : \\n\", in_arr2)  \n",
    "  \n",
    "# Stacking the two arrays vertically \n",
    "out_arr = np.vstack((in_arr1, in_arr2)) \n",
    "print (\"Output vertically stacked array:\\n \", out_arr) "
   ]
  },
  {
   "cell_type": "markdown",
   "metadata": {},
   "source": [
    "13. hsplit()\n",
    "\n",
    "Explanation:\n",
    "            numpy.hsplit() function split an array into multiple sub-arrays horizontally (column-wise). hsplit is equivalent to split with axis=1, the array is always split along the second axis regardless of the array dimension.\n",
    "\n",
    "Syntax : numpy.hsplit(arr, indices_or_sections)\n",
    "\n",
    "\n",
    "Parameters :\n",
    "arr : [ndarray] Array to be divided into sub-arrays.\n",
    "indices_or_sections : [int or 1-D array] If indices_or_sections is an integer, N, the array will be divided into N equal arrays along axis.\n",
    "If indices_or_sections is a 1-D array of sorted integers, the entries indicate where along axis the array is split\n",
    "\n",
    "\n",
    "Return : [ndarray] A list of sub-arrays.\n"
   ]
  },
  {
   "cell_type": "code",
   "execution_count": 15,
   "metadata": {},
   "outputs": [
    {
     "name": "stdout",
     "output_type": "stream",
     "text": [
      "[array([[ 0.,  1.],\n",
      "       [ 4.,  5.],\n",
      "       [ 8.,  9.],\n",
      "       [12., 13.]]), array([[ 2.,  3.],\n",
      "       [ 6.,  7.],\n",
      "       [10., 11.],\n",
      "       [14., 15.]])]\n"
     ]
    }
   ],
   "source": [
    "#Code\n",
    "import numpy as np \n",
    "  \n",
    "arr = np.arange(16.0).reshape(4, 4) \n",
    "  \n",
    "gfg = np.hsplit(arr, 2) \n",
    "  \n",
    "print (gfg) "
   ]
  },
  {
   "cell_type": "markdown",
   "metadata": {},
   "source": [
    "14. vsplit()\n",
    "\n",
    "Explanation:\n",
    "            numpy.vsplit() function split an array into multiple sub-arrays vertically (row-wise). vsplit is equivalent to split with axis=0 (default), the array is always split along the first axis regardless of the array dimension.\n",
    "\n",
    "Syntax : numpy.vsplit(arr, indices_or_sections)\n",
    "\n",
    "\n",
    "Parameters :\n",
    "arr : [ndarray] Array to be divided into sub-arrays.\n",
    "indices_or_sections : [int or 1-D array] If indices_or_sections is an integer, N, the array will be divided into N equal arrays along axis.\n",
    "If indices_or_sections is a 1-D array of sorted integers, the entries indicate where along axis the array is split\n",
    "\n",
    "Return : [ndarray] A list of sub-arrays.\n"
   ]
  },
  {
   "cell_type": "code",
   "execution_count": 16,
   "metadata": {},
   "outputs": [
    {
     "name": "stdout",
     "output_type": "stream",
     "text": [
      "[array([[0., 1., 2.],\n",
      "       [3., 4., 5.],\n",
      "       [6., 7., 8.]])]\n"
     ]
    }
   ],
   "source": [
    "#Code\n",
    "import numpy as np \n",
    "  \n",
    "arr = np.arange(9.0).reshape(3, 3) \n",
    "  \n",
    "gfg = np.vsplit(arr, 1) \n",
    "  \n",
    "print (gfg) "
   ]
  },
  {
   "cell_type": "markdown",
   "metadata": {},
   "source": [
    "15. View vs Shallow Copy\n",
    "\n",
    "Explanation:\n",
    "The main difference between a copy and a view of an array is that the copy is a new array, and the view is just a view of the original array.\n",
    "\n",
    "The copy owns the data and any changes made to the copy will not affect original array, and any changes made to the original array will not affect the copy.\n",
    "\n",
    "The view does not own the data and any changes made to the view will affect the original array, and any changes made to the original array will affect the view.\n"
   ]
  },
  {
   "cell_type": "code",
   "execution_count": 17,
   "metadata": {},
   "outputs": [
    {
     "name": "stdout",
     "output_type": "stream",
     "text": [
      "[42  2  3  4  5]\n",
      "[1 2 3 4 5]\n"
     ]
    }
   ],
   "source": [
    "#Code\n",
    "#Copy\n",
    "import numpy as np\n",
    "\n",
    "arr = np.array([1, 2, 3, 4, 5])\n",
    "x = arr.copy()\n",
    "arr[0] = 42\n",
    "\n",
    "print(arr)\n",
    "print(x)"
   ]
  },
  {
   "cell_type": "markdown",
   "metadata": {},
   "source": [
    "Explanation:\n",
    "Syntax:"
   ]
  },
  {
   "cell_type": "code",
   "execution_count": 18,
   "metadata": {},
   "outputs": [
    {
     "name": "stdout",
     "output_type": "stream",
     "text": [
      "[42  2  3  4  5]\n",
      "[42  2  3  4  5]\n"
     ]
    }
   ],
   "source": [
    "#View\n",
    "import numpy as np\n",
    "\n",
    "arr = np.array([1, 2, 3, 4, 5])\n",
    "x = arr.view()\n",
    "arr[0] = 42\n",
    "\n",
    "print(arr)\n",
    "print(x)"
   ]
  },
  {
   "cell_type": "markdown",
   "metadata": {},
   "source": [
    "16. Deep Copy\n",
    "\n",
    "Explanation:\n",
    "            It returns a copy of the original array stored at a new location. The copy doesn’t share data or memory with the original array. The modifications are not reflected. The copy function is also known as deep copy.\n"
   ]
  },
  {
   "cell_type": "code",
   "execution_count": 19,
   "metadata": {},
   "outputs": [
    {
     "name": "stdout",
     "output_type": "stream",
     "text": [
      "[100  30  50  70]\n",
      "[20 30 50 70]\n"
     ]
    }
   ],
   "source": [
    "#Code\n",
    "import numpy as np\n",
    "arr = np.array([20,30,50,70])\n",
    "a= arr.copy()\n",
    "#changing a value in original array\n",
    "arr[0] = 100\n",
    "\n",
    "print(arr)\n",
    "print(a)"
   ]
  },
  {
   "cell_type": "code",
   "execution_count": 21,
   "metadata": {},
   "outputs": [
    {
     "name": "stdout",
     "output_type": "stream",
     "text": [
      "[1, 2, [3, 5], 4]\n",
      "\n",
      "[1, 2, [3, 5], 4]\n"
     ]
    }
   ],
   "source": [
    "import copy \n",
    "  \n",
    "# initializing list 1  \n",
    "li1 = [1, 2, [3,5], 4] \n",
    "  \n",
    "  \n",
    "# using copy for shallow copy   \n",
    "li2 = copy.copy(li1)  \n",
    "  \n",
    "# using deepcopy for deepcopy   \n",
    "li3 = copy.deepcopy(li1) \n",
    "print(li2)\n",
    "print()\n",
    "print(li3)"
   ]
  },
  {
   "cell_type": "markdown",
   "metadata": {},
   "source": [
    "17. copy()\n",
    "\n",
    "Explanation:\n",
    "        numpy.ndarray.copy() returns a copy of the array.\n",
    "\n",
    "Syntax:\n",
    "numpy.ndarray.copy(order=’C’)\n",
    "\n",
    "Parameters:\n",
    "order : Controls the memory layout of the copy. ‘C’ means C-order, ‘F’ means F-order, ‘A’ means ‘F’ if a is Fortran contiguous, ‘C’ otherwise. ‘K’ means match the layout of a as closely as possible."
   ]
  },
  {
   "cell_type": "code",
   "execution_count": 22,
   "metadata": {},
   "outputs": [
    {
     "name": "stdout",
     "output_type": "stream",
     "text": [
      "x is: \n",
      " [[0 1 2 3]\n",
      " [4 5 6 7]]\n",
      "y is :\n",
      " [[0 1 2 3]\n",
      " [4 5 6 7]]\n",
      "\n",
      "x is copied to y\n"
     ]
    }
   ],
   "source": [
    "#Code\n",
    "import numpy as np \n",
    "  \n",
    "  \n",
    "x = np.array([[0, 1, 2, 3], [4, 5, 6, 7]], \n",
    "                                 order ='F') \n",
    "print(\"x is: \\n\", x) \n",
    "  \n",
    "# copying x to y \n",
    "y = x.copy() \n",
    "print(\"y is :\\n\", y) \n",
    "print(\"\\nx is copied to y\") "
   ]
  },
  {
   "cell_type": "markdown",
   "metadata": {},
   "source": [
    "18. meshgrid()\n",
    "\n",
    "\n",
    "Explanation:\n",
    "            The numpy module of Python provides meshgrid() function for creating a rectangular grid with the help of the given 1-D arrays that represent the Matrix indexing or Cartesian indexing. MATLAB somewhat inspires the meshgrid() function. From the coordinate vectors, the meshgrid() function returns the coordinate matrices.\n",
    "\n",
    "Syntax:\n",
    "        numpy.meshgrid(*xi, **kwargs)  \n",
    "Parameters\n",
    "x1, x2,…, xn : array_like\n",
    "This parameter defines the 1-dimensional array, which represents the coordinates of a grid.\n",
    "\n",
    "indexing: {'xy', 'ij'}(optional)\n",
    "\n",
    "This is an optional argument which defines the Cartesian 'xy'(by default) or matrix ('ij') indexing of output.\n",
    "\n",
    "sparse: bool(optional)\n",
    "\n",
    "This parameter is also optional. If we need a sparse grid for conserving memory, we have to set this parameter to True. By default, it is set to False.\n",
    "\n",
    "copy: bool(optional)\n",
    "\n",
    "The aim of this optional argument is that it returns a copy of the original array for conserving memory. By default, it is set to False.\n",
    "\n",
    "If both sparse and copy parameters are set to False, then it will return non-contiguous arrays. In addition, more than one element of a broadcast array can refer to a single memory location. If we need to write into the arrays, then we have to make copies first.\n",
    "\n",
    "Returns\n",
    "X1, X2, …, Xn\n",
    "\n"
   ]
  },
  {
   "cell_type": "code",
   "execution_count": 25,
   "metadata": {},
   "outputs": [
    {
     "name": "stdout",
     "output_type": "stream",
     "text": [
      "[[1.   1.25 1.5  1.75 2.  ]\n",
      " [1.   1.25 1.5  1.75 2.  ]\n",
      " [1.   1.25 1.5  1.75 2.  ]]\n",
      "\n",
      "[[1.  1.  1.  1.  1. ]\n",
      " [1.5 1.5 1.5 1.5 1.5]\n",
      " [2.  2.  2.  2.  2. ]]\n"
     ]
    }
   ],
   "source": [
    "#Code\n",
    "import numpy as np  \n",
    "na, nb = (5, 3)  \n",
    "a = np.linspace(1, 2, na)  \n",
    "b = np.linspace(1, 2, nb)  \n",
    "xa, xb = np.meshgrid(a, b)  \n",
    "print(xa)\n",
    "print()\n",
    "\n",
    "print(xb)"
   ]
  },
  {
   "cell_type": "markdown",
   "metadata": {},
   "source": [
    "19. swapaxes()\n",
    "\n",
    "Explanation:\n",
    "            numpy.swapaxes() function interchange two axes of an array.\n",
    "\n",
    "Syntax : numpy.swapaxes(arr, axis1, axis2)\n",
    "\n",
    "Parameters :\n",
    "arr : [array_like] input array.\n",
    "axis1 : [int] First axis.\n",
    "axis2 : [int] Second axis.\n",
    "Return : [ndarray] In earlier NumPy versions, a view of arr is returned only if the order of the axes is changed, otherwise the input array is returned. For NumPy >= 1.10.0, if arr is an ndarray, then a view of arr is returned; otherwise a new array is created.\n"
   ]
  },
  {
   "cell_type": "code",
   "execution_count": 26,
   "metadata": {},
   "outputs": [
    {
     "name": "stdout",
     "output_type": "stream",
     "text": [
      "[[2]\n",
      " [4]\n",
      " [6]]\n"
     ]
    }
   ],
   "source": [
    "#Code\n",
    "import numpy as np \n",
    "  \n",
    "arr = np.array([[2, 4, 6]]) \n",
    "  \n",
    "gfg = np.swapaxes(arr, 0, 1) \n",
    "  \n",
    "print (gfg) "
   ]
  },
  {
   "cell_type": "markdown",
   "metadata": {},
   "source": [
    "20. column_stack()\n",
    "\n",
    "Explanation:\n",
    "            numpy.column_stack() function is used to stack 1-D arrays as columns into a 2-D array.It takes a sequence of 1-D arrays and stack them as columns to make a single 2-D array. 2-D arrays are stacked as-is, just like with hstack function.\n",
    "\n",
    "Syntax : numpy.column_stack(tup)\n",
    "\n",
    "Parameters :\n",
    "tup : [sequence of ndarrays] Tuple containing arrays to be stacked. The arrays must have the same first dimension.\n",
    "\n",
    "Return : [stacked 2-D array] The stacked 2-D array of the input arrays.\n"
   ]
  },
  {
   "cell_type": "code",
   "execution_count": 27,
   "metadata": {},
   "outputs": [
    {
     "name": "stdout",
     "output_type": "stream",
     "text": [
      "1st Input array : \n",
      " [1 2 3]\n",
      "2nd Input array : \n",
      " [4 5 6]\n",
      "Output stacked array:\n",
      "  [[1 4]\n",
      " [2 5]\n",
      " [3 6]]\n"
     ]
    }
   ],
   "source": [
    "import numpy as geek \n",
    "  \n",
    "# input array \n",
    "in_arr1 = geek.array(( 1, 2, 3 )) \n",
    "print (\"1st Input array : \\n\", in_arr1)  \n",
    "  \n",
    "in_arr2 = geek.array(( 4, 5, 6 )) \n",
    "print (\"2nd Input array : \\n\", in_arr2)  \n",
    "  \n",
    "# Stacking the two arrays  \n",
    "out_arr = geek.column_stack((in_arr1, in_arr2)) \n",
    "print (\"Output stacked array:\\n \", out_arr) "
   ]
  },
  {
   "cell_type": "code",
   "execution_count": null,
   "metadata": {},
   "outputs": [],
   "source": []
  }
 ],
 "metadata": {
  "kernelspec": {
   "display_name": "Python 3",
   "language": "python",
   "name": "python3"
  },
  "language_info": {
   "codemirror_mode": {
    "name": "ipython",
    "version": 3
   },
   "file_extension": ".py",
   "mimetype": "text/x-python",
   "name": "python",
   "nbconvert_exporter": "python",
   "pygments_lexer": "ipython3",
   "version": "3.7.6"
  },
  "toc": {
   "base_numbering": 1,
   "nav_menu": {},
   "number_sections": true,
   "sideBar": true,
   "skip_h1_title": false,
   "title_cell": "Table of Contents",
   "title_sidebar": "Contents",
   "toc_cell": false,
   "toc_position": {},
   "toc_section_display": true,
   "toc_window_display": false
  }
 },
 "nbformat": 4,
 "nbformat_minor": 4
}
